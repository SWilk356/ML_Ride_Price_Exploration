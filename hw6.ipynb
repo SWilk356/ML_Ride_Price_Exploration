{
 "cells": [
  {
   "cell_type": "code",
   "execution_count": 1,
   "metadata": {
    "deletable": false,
    "editable": false
   },
   "outputs": [],
   "source": [
    "# Initialize Otter\n",
    "import otter\n",
    "grader = otter.Notebook(\"hw6.ipynb\")"
   ]
  },
  {
   "cell_type": "markdown",
   "metadata": {},
   "source": [
    "# Homework 6: Exploring Uber and Lyft Prices in Boston"
   ]
  },
  {
   "cell_type": "markdown",
   "metadata": {},
   "source": [
    "Name: Sarah Wilkinson and Vinya Reddy\n",
    "\n",
    "Student ID: 486676 and 467594\n",
    "\n",
    "Collaborators: Monday 11:30am-1:30pm OH"
   ]
  },
  {
   "cell_type": "markdown",
   "metadata": {},
   "source": [
    "## Instructions\n",
    "\n",
    "This homework is an _open-ended midterm project_ for our class. \n",
    "\n",
    "We will be using the techniques and approaches introduced in the first half of the semester:\n",
    "\n",
    "* **[M0] Python for DS**\n",
    "* **[M1] The DS and ML Workflows**\n",
    "* **[M2] Exploratory Data Analsyis**\n",
    "* [M3] Sentiment Analysis (if applicable - depends on problem/dataset)\n",
    "* [M4] Linear Regression (if applicable - depends on problem/dataset)\n",
    "* [M5] Linear Classification (if applicable - depends on problem/dataset)\n",
    "* **[M6]** Learning Principles and **Ethical Thinking for DS**\n",
    "\n",
    "The main focus of this project is on the first three modules [M0]-[M2], as well as the ethical consderations for DS from [M6]. In particular, it will be helpful to review **Lab 2 & hw2 (Analyzing the MoMA Data)** first. Most of the things you will do in this midterm project are explained in `Lab2` and `hw2`. Then, review the other labs and hws to recap the  general workflow of our DS approaches to the various problems we have worked on so far. This will help you to be prepared for all the steps in this project, so that you do not miss anything. \n",
    "\n",
    "In gernal, you should feel free to import any package that we have previously used in class. Ensure that all plots have the necessary components that a plot should have (e.g. axes labels, a title, a legend).\n",
    "\n",
    "Additionally, note that this assignment is more like a project than a typical homework and it will have a slightly different structure than the hws in the past. One of the reasons why Jupyter Notebooks are so popular in the field is because you can really treat them like notebooks to explain your findings as you discover them. In this assignment, we provide some **Problem** stubs following the EDA/DS workflow and you will need to fill in the analysis and structure as you go.\n",
    "\n",
    "Furthermore, in addition to recording your collaborators on this homework, please also remember to cite/indicate all external sources used when finishing this assignment. This includes peers, TAs, and links to online sources. \n",
    "\n",
    "Frequently **save** your notebook!"
   ]
  },
  {
   "cell_type": "markdown",
   "metadata": {},
   "source": [
    "### Collaborators and Sources\n",
    "Furthermore, in addition to recording your **collaborators** on this homework, please also remember to **cite/indicate all external sources** used when finishing this assignment. \n",
    "> This includes peers, TAs, and links to online sources. \n",
    "\n",
    "Note that these citations will not free you from your obligation to submit your _own_ code and write-ups, however, they will be taken into account during the grading and regrading process."
   ]
  },
  {
   "cell_type": "code",
   "execution_count": 3,
   "metadata": {},
   "outputs": [],
   "source": [
    "# collaborators and sources:\n",
    "# Albert Einstein and Marie Curie\n",
    "# https://developers.google.com/edu/python/strings\n",
    "\n",
    "# your code here\n",
    "answer = 'my answer'"
   ]
  },
  {
   "cell_type": "markdown",
   "metadata": {},
   "source": [
    "### Submission instructions\n",
    "* Submit this Python notebook, including your answers in the code cells as homework submission.\n",
    "* **Feel free to add as many cells as you need to** — just make sure you don't change what we gave you. \n",
    "* **Does it spark joy?** Note that you will be partially graded on the presentation (_cleanliness, clarity, comments_) of your notebook so make sure you [Marie Kondo](https://lifehacker.com/marie-kondo-is-not-a-verb-1833373654) your notebook before submitting it."
   ]
  },
  {
   "cell_type": "markdown",
   "metadata": {},
   "source": [
    "## 1. Introduction\n",
    "\n",
    "For our midterm project this semester, we'll take a look at data for numerous Lyft and Uber rides in Boston and their prices (https://www.kaggle.com/brllrb/uber-and-lyft-dataset-boston-ma). Our goal will be to use this dataset to gain some insight about characteristics of rides and _perhaps_ find some patterns in this data."
   ]
  },
  {
   "cell_type": "markdown",
   "metadata": {},
   "source": [
    "In general, we will be following the EDA process:\n",
    "1. Get the data and gain **basic understanding**\n",
    "2. **Wrangle** the data\n",
    "3. **Profile** the data\n",
    "4. Develop questions to investigate (form a **hypotheses**)\n",
    "5. Use the data to **investigate** hypothesis\n",
    "6. **Summarize** results and answer questions \n",
    "7. **Critically review** our workflow and discuss ethical concerns"
   ]
  },
  {
   "cell_type": "markdown",
   "metadata": {},
   "source": [
    "## 2. Getting Familiar with the Data\n",
    "\n",
    "In this section, we will get a feel for our data and tidy it up so that we can analyize it later. \n",
    "Download the data from the given source/link (cf. `README.md`) and be sure to save the data in a folder called `data` under the `utility` directory."
   ]
  },
  {
   "cell_type": "markdown",
   "metadata": {},
   "source": [
    "<!-- BEGIN QUESTION -->\n",
    "\n",
    "### Problem 1\n",
    "\n",
    "Let's take a look at the files in `utility/data` and think about what we can and will need to do with it.\n",
    "\n",
    "**Write-up!** Describe the data, answering questions including, but not limited to, these: Where does the data come from? How was it obtained? How many examples and features does the dataset have? What kinds of features are in the dataset? What values can these features take?\n",
    "> **Hint**: Consider the steps of EDA; what would you like to know about this dataset. "
   ]
  },
  {
   "cell_type": "raw",
   "metadata": {},
   "source": [
    "The data comes from a dataset \"Uber and Lyft Dataset Boston, MA\" from 11/26/18 to 12/18/2018. We are currently unsure how the data was collected and sourced as kaggle does not give this information. There are 693,070 data points in the data set and there are 57 features in the dataset.  "
   ]
  },
  {
   "cell_type": "raw",
   "metadata": {},
   "source": [
    "The types of features include date and time of the ride, which company and type of car was used, duration of the ride, source and destination of the ride, whether it is shared or not, the temperature/other weather features during the ride, and more including some such as sunrise and sunset time."
   ]
  },
  {
   "cell_type": "markdown",
   "metadata": {},
   "source": [
    "### Problem 2\n",
    "\n",
    "Let's do some data wrangling. \n",
    "\n",
    "**Write up!** Considering your description of the dataset from [Problem 1](#Problem-1), how should we clean this data?\n",
    "\n",
    "**Do this!** In the cells below, **explain** and perform the steps that you need to prepare this data for further analysis. Make sure that your implementations and write-ups (for processing and analysis) are presented well and effectively describe your workflow. You may add comments or markdown cells for your documentation as you see fit!  \n",
    "\n",
    "*Grading Note: Your work will be graded for _readability_, _style_, and _cleanlines_. So, carefully document your code and use descriptive/intuitive variable names. For write-ups use consice and clear language like in a written project report.*\n",
    "\n",
    "> **Hint**: You can use our previous labs as examples of how you might do this. \n",
    "Also, you might want to come back to this step later on, since you might encounter problems with the data once you actually analyze it. Remember, you may add as many cells (for code and text) as you need below. Here — we gave you one for free!"
   ]
  },
  {
   "cell_type": "raw",
   "metadata": {},
   "source": [
    "The dataset given to us is listed on Kaggle as a clean, beginner-friendly dataset. There are no messy units given with the\n",
    "numbers, and every feature can be expressed as either a float or a string. We need only clean out the data we don't want to use."
   ]
  },
  {
   "cell_type": "code",
   "execution_count": 16,
   "metadata": {},
   "outputs": [],
   "source": [
    "import pandas as pd\n",
    "import numpy as np\n",
    "import matplotlib.pyplot as plt\n",
    "from os.path import exists\n",
    "\n",
    "data_dir = 'utility/data'\n",
    "\n",
    "assert exists(f'{data_dir}/rideshare_kaggle.csv'), 'Loan data file is missing.'\n",
    "\n",
    "data = pd.read_csv(f'{data_dir}/rideshare_kaggle.csv')"
   ]
  },
  {
   "cell_type": "code",
   "execution_count": 17,
   "metadata": {},
   "outputs": [
    {
     "data": {
      "text/html": [
       "<div>\n",
       "<style scoped>\n",
       "    .dataframe tbody tr th:only-of-type {\n",
       "        vertical-align: middle;\n",
       "    }\n",
       "\n",
       "    .dataframe tbody tr th {\n",
       "        vertical-align: top;\n",
       "    }\n",
       "\n",
       "    .dataframe thead th {\n",
       "        text-align: right;\n",
       "    }\n",
       "</style>\n",
       "<table border=\"1\" class=\"dataframe\">\n",
       "  <thead>\n",
       "    <tr style=\"text-align: right;\">\n",
       "      <th></th>\n",
       "      <th>id</th>\n",
       "      <th>timestamp</th>\n",
       "      <th>hour</th>\n",
       "      <th>day</th>\n",
       "      <th>month</th>\n",
       "      <th>datetime</th>\n",
       "      <th>timezone</th>\n",
       "      <th>source</th>\n",
       "      <th>destination</th>\n",
       "      <th>cab_type</th>\n",
       "      <th>...</th>\n",
       "      <th>precipIntensityMax</th>\n",
       "      <th>uvIndexTime</th>\n",
       "      <th>temperatureMin</th>\n",
       "      <th>temperatureMinTime</th>\n",
       "      <th>temperatureMax</th>\n",
       "      <th>temperatureMaxTime</th>\n",
       "      <th>apparentTemperatureMin</th>\n",
       "      <th>apparentTemperatureMinTime</th>\n",
       "      <th>apparentTemperatureMax</th>\n",
       "      <th>apparentTemperatureMaxTime</th>\n",
       "    </tr>\n",
       "  </thead>\n",
       "  <tbody>\n",
       "    <tr>\n",
       "      <th>0</th>\n",
       "      <td>424553bb-7174-41ea-aeb4-fe06d4f4b9d7</td>\n",
       "      <td>1.544953e+09</td>\n",
       "      <td>9</td>\n",
       "      <td>16</td>\n",
       "      <td>12</td>\n",
       "      <td>2018-12-16 09:30:07</td>\n",
       "      <td>America/New_York</td>\n",
       "      <td>Haymarket Square</td>\n",
       "      <td>North Station</td>\n",
       "      <td>Lyft</td>\n",
       "      <td>...</td>\n",
       "      <td>0.1276</td>\n",
       "      <td>1544979600</td>\n",
       "      <td>39.89</td>\n",
       "      <td>1545012000</td>\n",
       "      <td>43.68</td>\n",
       "      <td>1544968800</td>\n",
       "      <td>33.73</td>\n",
       "      <td>1545012000</td>\n",
       "      <td>38.07</td>\n",
       "      <td>1544958000</td>\n",
       "    </tr>\n",
       "    <tr>\n",
       "      <th>1</th>\n",
       "      <td>4bd23055-6827-41c6-b23b-3c491f24e74d</td>\n",
       "      <td>1.543284e+09</td>\n",
       "      <td>2</td>\n",
       "      <td>27</td>\n",
       "      <td>11</td>\n",
       "      <td>2018-11-27 02:00:23</td>\n",
       "      <td>America/New_York</td>\n",
       "      <td>Haymarket Square</td>\n",
       "      <td>North Station</td>\n",
       "      <td>Lyft</td>\n",
       "      <td>...</td>\n",
       "      <td>0.1300</td>\n",
       "      <td>1543251600</td>\n",
       "      <td>40.49</td>\n",
       "      <td>1543233600</td>\n",
       "      <td>47.30</td>\n",
       "      <td>1543251600</td>\n",
       "      <td>36.20</td>\n",
       "      <td>1543291200</td>\n",
       "      <td>43.92</td>\n",
       "      <td>1543251600</td>\n",
       "    </tr>\n",
       "    <tr>\n",
       "      <th>2</th>\n",
       "      <td>981a3613-77af-4620-a42a-0c0866077d1e</td>\n",
       "      <td>1.543367e+09</td>\n",
       "      <td>1</td>\n",
       "      <td>28</td>\n",
       "      <td>11</td>\n",
       "      <td>2018-11-28 01:00:22</td>\n",
       "      <td>America/New_York</td>\n",
       "      <td>Haymarket Square</td>\n",
       "      <td>North Station</td>\n",
       "      <td>Lyft</td>\n",
       "      <td>...</td>\n",
       "      <td>0.1064</td>\n",
       "      <td>1543338000</td>\n",
       "      <td>35.36</td>\n",
       "      <td>1543377600</td>\n",
       "      <td>47.55</td>\n",
       "      <td>1543320000</td>\n",
       "      <td>31.04</td>\n",
       "      <td>1543377600</td>\n",
       "      <td>44.12</td>\n",
       "      <td>1543320000</td>\n",
       "    </tr>\n",
       "    <tr>\n",
       "      <th>3</th>\n",
       "      <td>c2d88af2-d278-4bfd-a8d0-29ca77cc5512</td>\n",
       "      <td>1.543554e+09</td>\n",
       "      <td>4</td>\n",
       "      <td>30</td>\n",
       "      <td>11</td>\n",
       "      <td>2018-11-30 04:53:02</td>\n",
       "      <td>America/New_York</td>\n",
       "      <td>Haymarket Square</td>\n",
       "      <td>North Station</td>\n",
       "      <td>Lyft</td>\n",
       "      <td>...</td>\n",
       "      <td>0.0000</td>\n",
       "      <td>1543507200</td>\n",
       "      <td>34.67</td>\n",
       "      <td>1543550400</td>\n",
       "      <td>45.03</td>\n",
       "      <td>1543510800</td>\n",
       "      <td>30.30</td>\n",
       "      <td>1543550400</td>\n",
       "      <td>38.53</td>\n",
       "      <td>1543510800</td>\n",
       "    </tr>\n",
       "    <tr>\n",
       "      <th>4</th>\n",
       "      <td>e0126e1f-8ca9-4f2e-82b3-50505a09db9a</td>\n",
       "      <td>1.543463e+09</td>\n",
       "      <td>3</td>\n",
       "      <td>29</td>\n",
       "      <td>11</td>\n",
       "      <td>2018-11-29 03:49:20</td>\n",
       "      <td>America/New_York</td>\n",
       "      <td>Haymarket Square</td>\n",
       "      <td>North Station</td>\n",
       "      <td>Lyft</td>\n",
       "      <td>...</td>\n",
       "      <td>0.0001</td>\n",
       "      <td>1543420800</td>\n",
       "      <td>33.10</td>\n",
       "      <td>1543402800</td>\n",
       "      <td>42.18</td>\n",
       "      <td>1543420800</td>\n",
       "      <td>29.11</td>\n",
       "      <td>1543392000</td>\n",
       "      <td>35.75</td>\n",
       "      <td>1543420800</td>\n",
       "    </tr>\n",
       "  </tbody>\n",
       "</table>\n",
       "<p>5 rows × 57 columns</p>\n",
       "</div>"
      ],
      "text/plain": [
       "                                     id     timestamp  hour  day  month  \\\n",
       "0  424553bb-7174-41ea-aeb4-fe06d4f4b9d7  1.544953e+09     9   16     12   \n",
       "1  4bd23055-6827-41c6-b23b-3c491f24e74d  1.543284e+09     2   27     11   \n",
       "2  981a3613-77af-4620-a42a-0c0866077d1e  1.543367e+09     1   28     11   \n",
       "3  c2d88af2-d278-4bfd-a8d0-29ca77cc5512  1.543554e+09     4   30     11   \n",
       "4  e0126e1f-8ca9-4f2e-82b3-50505a09db9a  1.543463e+09     3   29     11   \n",
       "\n",
       "              datetime          timezone            source    destination  \\\n",
       "0  2018-12-16 09:30:07  America/New_York  Haymarket Square  North Station   \n",
       "1  2018-11-27 02:00:23  America/New_York  Haymarket Square  North Station   \n",
       "2  2018-11-28 01:00:22  America/New_York  Haymarket Square  North Station   \n",
       "3  2018-11-30 04:53:02  America/New_York  Haymarket Square  North Station   \n",
       "4  2018-11-29 03:49:20  America/New_York  Haymarket Square  North Station   \n",
       "\n",
       "  cab_type  ... precipIntensityMax uvIndexTime  temperatureMin  \\\n",
       "0     Lyft  ...             0.1276  1544979600           39.89   \n",
       "1     Lyft  ...             0.1300  1543251600           40.49   \n",
       "2     Lyft  ...             0.1064  1543338000           35.36   \n",
       "3     Lyft  ...             0.0000  1543507200           34.67   \n",
       "4     Lyft  ...             0.0001  1543420800           33.10   \n",
       "\n",
       "   temperatureMinTime  temperatureMax  temperatureMaxTime  \\\n",
       "0          1545012000           43.68          1544968800   \n",
       "1          1543233600           47.30          1543251600   \n",
       "2          1543377600           47.55          1543320000   \n",
       "3          1543550400           45.03          1543510800   \n",
       "4          1543402800           42.18          1543420800   \n",
       "\n",
       "   apparentTemperatureMin  apparentTemperatureMinTime  apparentTemperatureMax  \\\n",
       "0                   33.73                  1545012000                   38.07   \n",
       "1                   36.20                  1543291200                   43.92   \n",
       "2                   31.04                  1543377600                   44.12   \n",
       "3                   30.30                  1543550400                   38.53   \n",
       "4                   29.11                  1543392000                   35.75   \n",
       "\n",
       "  apparentTemperatureMaxTime  \n",
       "0                 1544958000  \n",
       "1                 1543251600  \n",
       "2                 1543320000  \n",
       "3                 1543510800  \n",
       "4                 1543420800  \n",
       "\n",
       "[5 rows x 57 columns]"
      ]
     },
     "execution_count": 17,
     "metadata": {},
     "output_type": "execute_result"
    }
   ],
   "source": [
    "data.head()"
   ]
  },
  {
   "cell_type": "raw",
   "metadata": {},
   "source": [
    "Of the features present in the data, the price variable seems the most interesting and relevant to us as customers. The price of the ride has a lot of potential for big picture analysis both from the company side and the customer side. As there are a total 57 features it would not be productive to analyze all other 56 variables against price. To reiterate, our dependent variable in this analysis is the price of a ride. "
   ]
  },
  {
   "cell_type": "code",
   "execution_count": 18,
   "metadata": {},
   "outputs": [
    {
     "data": {
      "text/html": [
       "<div>\n",
       "<style scoped>\n",
       "    .dataframe tbody tr th:only-of-type {\n",
       "        vertical-align: middle;\n",
       "    }\n",
       "\n",
       "    .dataframe tbody tr th {\n",
       "        vertical-align: top;\n",
       "    }\n",
       "\n",
       "    .dataframe thead th {\n",
       "        text-align: right;\n",
       "    }\n",
       "</style>\n",
       "<table border=\"1\" class=\"dataframe\">\n",
       "  <thead>\n",
       "    <tr style=\"text-align: right;\">\n",
       "      <th></th>\n",
       "      <th>cab_type</th>\n",
       "      <th>price</th>\n",
       "      <th>distance</th>\n",
       "      <th>temperature</th>\n",
       "      <th>precipProbability</th>\n",
       "      <th>uvIndex</th>\n",
       "      <th>visibility.1</th>\n",
       "      <th>moonPhase</th>\n",
       "    </tr>\n",
       "  </thead>\n",
       "  <tbody>\n",
       "    <tr>\n",
       "      <th>0</th>\n",
       "      <td>Lyft</td>\n",
       "      <td>5.0</td>\n",
       "      <td>0.44</td>\n",
       "      <td>42.34</td>\n",
       "      <td>0.0</td>\n",
       "      <td>0</td>\n",
       "      <td>10.000</td>\n",
       "      <td>0.30</td>\n",
       "    </tr>\n",
       "    <tr>\n",
       "      <th>1</th>\n",
       "      <td>Lyft</td>\n",
       "      <td>11.0</td>\n",
       "      <td>0.44</td>\n",
       "      <td>43.58</td>\n",
       "      <td>1.0</td>\n",
       "      <td>0</td>\n",
       "      <td>4.786</td>\n",
       "      <td>0.64</td>\n",
       "    </tr>\n",
       "    <tr>\n",
       "      <th>2</th>\n",
       "      <td>Lyft</td>\n",
       "      <td>7.0</td>\n",
       "      <td>0.44</td>\n",
       "      <td>38.33</td>\n",
       "      <td>0.0</td>\n",
       "      <td>0</td>\n",
       "      <td>10.000</td>\n",
       "      <td>0.68</td>\n",
       "    </tr>\n",
       "    <tr>\n",
       "      <th>3</th>\n",
       "      <td>Lyft</td>\n",
       "      <td>26.0</td>\n",
       "      <td>0.44</td>\n",
       "      <td>34.38</td>\n",
       "      <td>0.0</td>\n",
       "      <td>0</td>\n",
       "      <td>10.000</td>\n",
       "      <td>0.75</td>\n",
       "    </tr>\n",
       "    <tr>\n",
       "      <th>4</th>\n",
       "      <td>Lyft</td>\n",
       "      <td>9.0</td>\n",
       "      <td>0.44</td>\n",
       "      <td>37.44</td>\n",
       "      <td>0.0</td>\n",
       "      <td>0</td>\n",
       "      <td>10.000</td>\n",
       "      <td>0.72</td>\n",
       "    </tr>\n",
       "    <tr>\n",
       "      <th>...</th>\n",
       "      <td>...</td>\n",
       "      <td>...</td>\n",
       "      <td>...</td>\n",
       "      <td>...</td>\n",
       "      <td>...</td>\n",
       "      <td>...</td>\n",
       "      <td>...</td>\n",
       "      <td>...</td>\n",
       "    </tr>\n",
       "    <tr>\n",
       "      <th>693066</th>\n",
       "      <td>Uber</td>\n",
       "      <td>13.0</td>\n",
       "      <td>1.00</td>\n",
       "      <td>37.05</td>\n",
       "      <td>0.0</td>\n",
       "      <td>0</td>\n",
       "      <td>9.785</td>\n",
       "      <td>0.82</td>\n",
       "    </tr>\n",
       "    <tr>\n",
       "      <th>693067</th>\n",
       "      <td>Uber</td>\n",
       "      <td>9.5</td>\n",
       "      <td>1.00</td>\n",
       "      <td>37.05</td>\n",
       "      <td>0.0</td>\n",
       "      <td>0</td>\n",
       "      <td>9.785</td>\n",
       "      <td>0.82</td>\n",
       "    </tr>\n",
       "    <tr>\n",
       "      <th>693068</th>\n",
       "      <td>Uber</td>\n",
       "      <td>NaN</td>\n",
       "      <td>1.00</td>\n",
       "      <td>37.05</td>\n",
       "      <td>0.0</td>\n",
       "      <td>0</td>\n",
       "      <td>9.785</td>\n",
       "      <td>0.82</td>\n",
       "    </tr>\n",
       "    <tr>\n",
       "      <th>693069</th>\n",
       "      <td>Uber</td>\n",
       "      <td>27.0</td>\n",
       "      <td>1.00</td>\n",
       "      <td>37.05</td>\n",
       "      <td>0.0</td>\n",
       "      <td>0</td>\n",
       "      <td>9.785</td>\n",
       "      <td>0.82</td>\n",
       "    </tr>\n",
       "    <tr>\n",
       "      <th>693070</th>\n",
       "      <td>Uber</td>\n",
       "      <td>10.0</td>\n",
       "      <td>1.00</td>\n",
       "      <td>37.05</td>\n",
       "      <td>0.0</td>\n",
       "      <td>0</td>\n",
       "      <td>9.785</td>\n",
       "      <td>0.82</td>\n",
       "    </tr>\n",
       "  </tbody>\n",
       "</table>\n",
       "<p>693071 rows × 8 columns</p>\n",
       "</div>"
      ],
      "text/plain": [
       "       cab_type  price  distance  temperature  precipProbability  uvIndex  \\\n",
       "0          Lyft    5.0      0.44        42.34                0.0        0   \n",
       "1          Lyft   11.0      0.44        43.58                1.0        0   \n",
       "2          Lyft    7.0      0.44        38.33                0.0        0   \n",
       "3          Lyft   26.0      0.44        34.38                0.0        0   \n",
       "4          Lyft    9.0      0.44        37.44                0.0        0   \n",
       "...         ...    ...       ...          ...                ...      ...   \n",
       "693066     Uber   13.0      1.00        37.05                0.0        0   \n",
       "693067     Uber    9.5      1.00        37.05                0.0        0   \n",
       "693068     Uber    NaN      1.00        37.05                0.0        0   \n",
       "693069     Uber   27.0      1.00        37.05                0.0        0   \n",
       "693070     Uber   10.0      1.00        37.05                0.0        0   \n",
       "\n",
       "        visibility.1  moonPhase  \n",
       "0             10.000       0.30  \n",
       "1              4.786       0.64  \n",
       "2             10.000       0.68  \n",
       "3             10.000       0.75  \n",
       "4             10.000       0.72  \n",
       "...              ...        ...  \n",
       "693066         9.785       0.82  \n",
       "693067         9.785       0.82  \n",
       "693068         9.785       0.82  \n",
       "693069         9.785       0.82  \n",
       "693070         9.785       0.82  \n",
       "\n",
       "[693071 rows x 8 columns]"
      ]
     },
     "execution_count": 18,
     "metadata": {},
     "output_type": "execute_result"
    }
   ],
   "source": [
    "#drop the data we're not interested in\n",
    "not_interested = ['id', 'timestamp', 'hour', 'day', 'month', 'datetime', 'timezone', 'source', 'destination', 'product_id', 'name', 'surge_multiplier', 'latitude', 'longitude', 'apparentTemperature', 'short_summary', 'long_summary', 'precipIntensity', 'humidity', 'windSpeed', 'windGust', 'windGustTime', 'visibility', 'temperatureHigh', 'temperatureHighTime', 'temperatureLow', 'temperatureLowTime', 'apparentTemperatureHigh', 'apparentTemperatureHighTime', 'apparentTemperatureLow', 'apparentTemperatureLowTime', 'icon', 'dewPoint', 'pressure', 'windBearing' ,'cloudCover', 'visibility', 'ozone', 'sunriseTime', 'sunsetTime', 'precipIntensityMax', 'uvIndexTime', 'temperatureMin', 'temperatureMinTime', 'temperatureMax', 'temperatureMaxTime', 'apparentTemperatureMin', 'apparentTemperatureMinTime', 'apparentTemperatureMax', 'apparentTemperatureMaxTime']\n",
    "                  \n",
    "data = data.drop(not_interested, axis=1)\n",
    "\n",
    "data"
   ]
  },
  {
   "cell_type": "raw",
   "metadata": {},
   "source": [
    "Therefore, we have decided on a few key features we would like to further study during this midterm assignment. We decided that these key features summarized the main categories of features and would be good indicators of ride price."
   ]
  },
  {
   "cell_type": "raw",
   "metadata": {},
   "source": [
    "These features include: cab type, distance, temperature, precipitation probability, UV Index, visibility, and moon phase."
   ]
  },
  {
   "cell_type": "code",
   "execution_count": 19,
   "metadata": {},
   "outputs": [
    {
     "name": "stdout",
     "output_type": "stream",
     "text": [
      "[1 1 1 ... 0 0 0]\n"
     ]
    }
   ],
   "source": [
    "#create boolean array for cab type\n",
    "cab_type = np.copy(data['cab_type'])\n",
    "#if lyft, then 1. if Uber, then 0\n",
    "boolean_cab_type = np.where(cab_type=='Lyft', 1, 0)\n",
    "\n",
    "print(boolean_cab_type)"
   ]
  },
  {
   "cell_type": "raw",
   "metadata": {},
   "source": [
    "Since the data in the cab_type feature is listed as strings (either 'Uber' or 'Lyft') we decided to encode these valuse into a boolean array with a 1 sinaling a Lyft cab type and a 0 signaling a Uber cab type. After encoding the original values into numerical values, it will be easier to analyze the data in cab type."
   ]
  },
  {
   "cell_type": "code",
   "execution_count": 20,
   "metadata": {},
   "outputs": [
    {
     "data": {
      "text/html": [
       "<div>\n",
       "<style scoped>\n",
       "    .dataframe tbody tr th:only-of-type {\n",
       "        vertical-align: middle;\n",
       "    }\n",
       "\n",
       "    .dataframe tbody tr th {\n",
       "        vertical-align: top;\n",
       "    }\n",
       "\n",
       "    .dataframe thead th {\n",
       "        text-align: right;\n",
       "    }\n",
       "</style>\n",
       "<table border=\"1\" class=\"dataframe\">\n",
       "  <thead>\n",
       "    <tr style=\"text-align: right;\">\n",
       "      <th></th>\n",
       "      <th>cab_type</th>\n",
       "      <th>price</th>\n",
       "      <th>distance</th>\n",
       "      <th>temperature</th>\n",
       "      <th>precipProbability</th>\n",
       "      <th>uvIndex</th>\n",
       "      <th>visibility.1</th>\n",
       "      <th>moonPhase</th>\n",
       "    </tr>\n",
       "  </thead>\n",
       "  <tbody>\n",
       "    <tr>\n",
       "      <th>0</th>\n",
       "      <td>Lyft</td>\n",
       "      <td>5.0</td>\n",
       "      <td>0.44</td>\n",
       "      <td>42.34</td>\n",
       "      <td>0.0</td>\n",
       "      <td>0</td>\n",
       "      <td>10.000</td>\n",
       "      <td>0.30</td>\n",
       "    </tr>\n",
       "    <tr>\n",
       "      <th>1</th>\n",
       "      <td>Lyft</td>\n",
       "      <td>11.0</td>\n",
       "      <td>0.44</td>\n",
       "      <td>43.58</td>\n",
       "      <td>1.0</td>\n",
       "      <td>0</td>\n",
       "      <td>4.786</td>\n",
       "      <td>0.64</td>\n",
       "    </tr>\n",
       "    <tr>\n",
       "      <th>2</th>\n",
       "      <td>Lyft</td>\n",
       "      <td>7.0</td>\n",
       "      <td>0.44</td>\n",
       "      <td>38.33</td>\n",
       "      <td>0.0</td>\n",
       "      <td>0</td>\n",
       "      <td>10.000</td>\n",
       "      <td>0.68</td>\n",
       "    </tr>\n",
       "    <tr>\n",
       "      <th>3</th>\n",
       "      <td>Lyft</td>\n",
       "      <td>26.0</td>\n",
       "      <td>0.44</td>\n",
       "      <td>34.38</td>\n",
       "      <td>0.0</td>\n",
       "      <td>0</td>\n",
       "      <td>10.000</td>\n",
       "      <td>0.75</td>\n",
       "    </tr>\n",
       "    <tr>\n",
       "      <th>4</th>\n",
       "      <td>Lyft</td>\n",
       "      <td>9.0</td>\n",
       "      <td>0.44</td>\n",
       "      <td>37.44</td>\n",
       "      <td>0.0</td>\n",
       "      <td>0</td>\n",
       "      <td>10.000</td>\n",
       "      <td>0.72</td>\n",
       "    </tr>\n",
       "    <tr>\n",
       "      <th>...</th>\n",
       "      <td>...</td>\n",
       "      <td>...</td>\n",
       "      <td>...</td>\n",
       "      <td>...</td>\n",
       "      <td>...</td>\n",
       "      <td>...</td>\n",
       "      <td>...</td>\n",
       "      <td>...</td>\n",
       "    </tr>\n",
       "    <tr>\n",
       "      <th>99995</th>\n",
       "      <td>Uber</td>\n",
       "      <td>11.5</td>\n",
       "      <td>1.22</td>\n",
       "      <td>49.88</td>\n",
       "      <td>1.0</td>\n",
       "      <td>0</td>\n",
       "      <td>3.052</td>\n",
       "      <td>0.86</td>\n",
       "    </tr>\n",
       "    <tr>\n",
       "      <th>99996</th>\n",
       "      <td>Uber</td>\n",
       "      <td>7.5</td>\n",
       "      <td>1.22</td>\n",
       "      <td>45.32</td>\n",
       "      <td>0.0</td>\n",
       "      <td>0</td>\n",
       "      <td>10.000</td>\n",
       "      <td>0.64</td>\n",
       "    </tr>\n",
       "    <tr>\n",
       "      <th>99997</th>\n",
       "      <td>Uber</td>\n",
       "      <td>6.0</td>\n",
       "      <td>1.22</td>\n",
       "      <td>37.21</td>\n",
       "      <td>0.0</td>\n",
       "      <td>0</td>\n",
       "      <td>9.732</td>\n",
       "      <td>0.33</td>\n",
       "    </tr>\n",
       "    <tr>\n",
       "      <th>99998</th>\n",
       "      <td>Uber</td>\n",
       "      <td>7.5</td>\n",
       "      <td>1.22</td>\n",
       "      <td>38.18</td>\n",
       "      <td>0.0</td>\n",
       "      <td>0</td>\n",
       "      <td>10.000</td>\n",
       "      <td>0.72</td>\n",
       "    </tr>\n",
       "    <tr>\n",
       "      <th>99999</th>\n",
       "      <td>Uber</td>\n",
       "      <td>23.0</td>\n",
       "      <td>1.22</td>\n",
       "      <td>30.58</td>\n",
       "      <td>0.0</td>\n",
       "      <td>0</td>\n",
       "      <td>9.892</td>\n",
       "      <td>0.24</td>\n",
       "    </tr>\n",
       "  </tbody>\n",
       "</table>\n",
       "<p>100000 rows × 8 columns</p>\n",
       "</div>"
      ],
      "text/plain": [
       "      cab_type  price  distance  temperature  precipProbability  uvIndex  \\\n",
       "0         Lyft    5.0      0.44        42.34                0.0        0   \n",
       "1         Lyft   11.0      0.44        43.58                1.0        0   \n",
       "2         Lyft    7.0      0.44        38.33                0.0        0   \n",
       "3         Lyft   26.0      0.44        34.38                0.0        0   \n",
       "4         Lyft    9.0      0.44        37.44                0.0        0   \n",
       "...        ...    ...       ...          ...                ...      ...   \n",
       "99995     Uber   11.5      1.22        49.88                1.0        0   \n",
       "99996     Uber    7.5      1.22        45.32                0.0        0   \n",
       "99997     Uber    6.0      1.22        37.21                0.0        0   \n",
       "99998     Uber    7.5      1.22        38.18                0.0        0   \n",
       "99999     Uber   23.0      1.22        30.58                0.0        0   \n",
       "\n",
       "       visibility.1  moonPhase  \n",
       "0            10.000       0.30  \n",
       "1             4.786       0.64  \n",
       "2            10.000       0.68  \n",
       "3            10.000       0.75  \n",
       "4            10.000       0.72  \n",
       "...             ...        ...  \n",
       "99995         3.052       0.86  \n",
       "99996        10.000       0.64  \n",
       "99997         9.732       0.33  \n",
       "99998        10.000       0.72  \n",
       "99999         9.892       0.24  \n",
       "\n",
       "[100000 rows x 8 columns]"
      ]
     },
     "execution_count": 20,
     "metadata": {},
     "output_type": "execute_result"
    }
   ],
   "source": [
    "#use only the first 100000 points\n",
    "data = data[: 100000]\n",
    "\n",
    "data"
   ]
  },
  {
   "cell_type": "raw",
   "metadata": {},
   "source": [
    "In addition to analyzing these features, we have also furthered our cleaning and focus by analyzing the first 100,000 data points in the dataset of around 700,000."
   ]
  },
  {
   "cell_type": "markdown",
   "metadata": {},
   "source": [
    "### Problem 3\n",
    "\n",
    "**Do this!** Now that we cleaned up our data, we are ready to look into it. In this problem, we want to profile our data and explore its variables.\n",
    "\n",
    "> **Hint**: Note that the way some data is stored does not necesarily mean that each column should correspond to a seperate variable. Feel free to define your own variables based on the input data. Looking at the dataset documentation might be helpful to figure out meaningful representations. Also note that there are no right or wrong representations here (since it is your job to find something interesting in the data, it is also up to you to choose the data/variable representations). Again, you might want to iterate over this step again later after doing some more exploration. \n",
    "\n",
    "> **Hint**: Recall from Lab 2, this step usually involves computing summary statistics and basic plots _where applicable_. Try plotting some of the data (with appropriate plots; remember the lecture content - some plots introduced in there ( we did not yet use in the lab or hw) could be useful). Then, highlight a few of the more interesting ones and discuss why you thought they were interesting — for both our sakes, **please only include the most interesting ones** in your actual submission!!  Again note that there are no right or wrong features to choose here (since it is your job to find something interesting in the data, it is also up to you to choose the data/variables to include). Just be sure to make a selection. You will not receive any credit by simply plotting everything!  \n",
    "\n",
    "*Grading Note*: Your work will be graded for _creativity_ and _aesthetics_. Be creative in the plots you use and select visulatizations and colors that make for a plesant and intuitive viewing expereince. The goal of a good visualization is that the viewer will quickly understand your figures.* \n",
    "\n",
    "Once again, we have provided a _free_ cell for you to use; make as many as you need. Use text/markdown cells to describe what you are doing and what your findings are. "
   ]
  },
  {
   "cell_type": "code",
   "execution_count": 21,
   "metadata": {},
   "outputs": [
    {
     "data": {
      "text/html": [
       "<div>\n",
       "<style scoped>\n",
       "    .dataframe tbody tr th:only-of-type {\n",
       "        vertical-align: middle;\n",
       "    }\n",
       "\n",
       "    .dataframe tbody tr th {\n",
       "        vertical-align: top;\n",
       "    }\n",
       "\n",
       "    .dataframe thead th {\n",
       "        text-align: right;\n",
       "    }\n",
       "</style>\n",
       "<table border=\"1\" class=\"dataframe\">\n",
       "  <thead>\n",
       "    <tr style=\"text-align: right;\">\n",
       "      <th></th>\n",
       "      <th>price</th>\n",
       "      <th>distance</th>\n",
       "      <th>temperature</th>\n",
       "      <th>precipProbability</th>\n",
       "      <th>uvIndex</th>\n",
       "      <th>visibility.1</th>\n",
       "      <th>moonPhase</th>\n",
       "    </tr>\n",
       "  </thead>\n",
       "  <tbody>\n",
       "    <tr>\n",
       "      <th>count</th>\n",
       "      <td>92084.000000</td>\n",
       "      <td>100000.000000</td>\n",
       "      <td>100000.000000</td>\n",
       "      <td>100000.000000</td>\n",
       "      <td>100000.000000</td>\n",
       "      <td>100000.000000</td>\n",
       "      <td>100000.000000</td>\n",
       "    </tr>\n",
       "    <tr>\n",
       "      <th>mean</th>\n",
       "      <td>16.577109</td>\n",
       "      <td>2.194748</td>\n",
       "      <td>39.555451</td>\n",
       "      <td>0.143939</td>\n",
       "      <td>0.244210</td>\n",
       "      <td>8.485983</td>\n",
       "      <td>0.580555</td>\n",
       "    </tr>\n",
       "    <tr>\n",
       "      <th>std</th>\n",
       "      <td>9.353030</td>\n",
       "      <td>1.138229</td>\n",
       "      <td>6.691038</td>\n",
       "      <td>0.327038</td>\n",
       "      <td>0.471013</td>\n",
       "      <td>2.589111</td>\n",
       "      <td>0.243583</td>\n",
       "    </tr>\n",
       "    <tr>\n",
       "      <th>min</th>\n",
       "      <td>2.500000</td>\n",
       "      <td>0.020000</td>\n",
       "      <td>18.910000</td>\n",
       "      <td>0.000000</td>\n",
       "      <td>0.000000</td>\n",
       "      <td>0.717000</td>\n",
       "      <td>0.090000</td>\n",
       "    </tr>\n",
       "    <tr>\n",
       "      <th>25%</th>\n",
       "      <td>9.000000</td>\n",
       "      <td>1.300000</td>\n",
       "      <td>36.500000</td>\n",
       "      <td>0.000000</td>\n",
       "      <td>0.000000</td>\n",
       "      <td>8.459000</td>\n",
       "      <td>0.300000</td>\n",
       "    </tr>\n",
       "    <tr>\n",
       "      <th>50%</th>\n",
       "      <td>13.500000</td>\n",
       "      <td>2.170000</td>\n",
       "      <td>40.490000</td>\n",
       "      <td>0.000000</td>\n",
       "      <td>0.000000</td>\n",
       "      <td>9.882000</td>\n",
       "      <td>0.680000</td>\n",
       "    </tr>\n",
       "    <tr>\n",
       "      <th>75%</th>\n",
       "      <td>22.500000</td>\n",
       "      <td>2.940000</td>\n",
       "      <td>43.570000</td>\n",
       "      <td>0.000000</td>\n",
       "      <td>0.000000</td>\n",
       "      <td>9.996000</td>\n",
       "      <td>0.790000</td>\n",
       "    </tr>\n",
       "    <tr>\n",
       "      <th>max</th>\n",
       "      <td>92.000000</td>\n",
       "      <td>7.500000</td>\n",
       "      <td>57.220000</td>\n",
       "      <td>1.000000</td>\n",
       "      <td>2.000000</td>\n",
       "      <td>10.000000</td>\n",
       "      <td>0.930000</td>\n",
       "    </tr>\n",
       "  </tbody>\n",
       "</table>\n",
       "</div>"
      ],
      "text/plain": [
       "              price       distance    temperature  precipProbability  \\\n",
       "count  92084.000000  100000.000000  100000.000000      100000.000000   \n",
       "mean      16.577109       2.194748      39.555451           0.143939   \n",
       "std        9.353030       1.138229       6.691038           0.327038   \n",
       "min        2.500000       0.020000      18.910000           0.000000   \n",
       "25%        9.000000       1.300000      36.500000           0.000000   \n",
       "50%       13.500000       2.170000      40.490000           0.000000   \n",
       "75%       22.500000       2.940000      43.570000           0.000000   \n",
       "max       92.000000       7.500000      57.220000           1.000000   \n",
       "\n",
       "             uvIndex   visibility.1      moonPhase  \n",
       "count  100000.000000  100000.000000  100000.000000  \n",
       "mean        0.244210       8.485983       0.580555  \n",
       "std         0.471013       2.589111       0.243583  \n",
       "min         0.000000       0.717000       0.090000  \n",
       "25%         0.000000       8.459000       0.300000  \n",
       "50%         0.000000       9.882000       0.680000  \n",
       "75%         0.000000       9.996000       0.790000  \n",
       "max         2.000000      10.000000       0.930000  "
      ]
     },
     "execution_count": 21,
     "metadata": {},
     "output_type": "execute_result"
    }
   ],
   "source": [
    "data.describe()"
   ]
  },
  {
   "cell_type": "raw",
   "metadata": {},
   "source": [
    "To gain a better understanding of our segmented dataset we first examined the descriptive statistics of the data. We plan to reference the descriptive statistics later on in our analysis."
   ]
  },
  {
   "cell_type": "raw",
   "metadata": {},
   "source": [
    "In this part of the project, we decided to plot all of our 7 chosen variables against price, our dependent variable. After creating scatter plots and histograms for these variables, we decided which variable to focus on for the remainder of the project."
   ]
  },
  {
   "cell_type": "code",
   "execution_count": 31,
   "metadata": {},
   "outputs": [],
   "source": [
    "#for general use among plots\n",
    "price = data['price'].to_numpy()\n",
    "dist = data['distance'].to_numpy()"
   ]
  },
  {
   "cell_type": "raw",
   "metadata": {},
   "source": [
    "To make plotting the data easier and to use numpy functions, we decided to make data from our pandas dataframe into numpy arrays."
   ]
  },
  {
   "cell_type": "code",
   "execution_count": 32,
   "metadata": {},
   "outputs": [
    {
     "data": {
      "image/png": "[encoded data removed]",
      "text/plain": [
       "<Figure size 432x288 with 1 Axes>"
      ]
     },
     "metadata": {
      "needs_background": "light"
     },
     "output_type": "display_data"
    }
   ],
   "source": [
    "#single color scatter plot\n",
    "plt.scatter(dist, price)\n",
    "plt.title('Effect of Ride Distance on Price of Rideshare')\n",
    "plt.ylabel(\"Price (USD)\")\n",
    "plt.xlabel(\"Distance (mi)\")\n",
    "plt.show()\n",
    "\n",
    "#single color is less informative--let's make a two color scatter plot!\n",
    "#see problem 5"
   ]
  },
  {
   "cell_type": "code",
   "execution_count": 26,
   "metadata": {},
   "outputs": [
    {
     "data": {
      "text/html": [
       "<div>\n",
       "<style scoped>\n",
       "    .dataframe tbody tr th:only-of-type {\n",
       "        vertical-align: middle;\n",
       "    }\n",
       "\n",
       "    .dataframe tbody tr th {\n",
       "        vertical-align: top;\n",
       "    }\n",
       "\n",
       "    .dataframe thead th {\n",
       "        text-align: right;\n",
       "    }\n",
       "</style>\n",
       "<table border=\"1\" class=\"dataframe\">\n",
       "  <thead>\n",
       "    <tr style=\"text-align: right;\">\n",
       "      <th></th>\n",
       "      <th>cab_type</th>\n",
       "      <th>price</th>\n",
       "      <th>distance</th>\n",
       "      <th>temperature</th>\n",
       "      <th>precipProbability</th>\n",
       "      <th>uvIndex</th>\n",
       "      <th>visibility.1</th>\n",
       "      <th>moonPhase</th>\n",
       "      <th>bCabType</th>\n",
       "    </tr>\n",
       "  </thead>\n",
       "  <tbody>\n",
       "    <tr>\n",
       "      <th>0</th>\n",
       "      <td>Lyft</td>\n",
       "      <td>5.0</td>\n",
       "      <td>0.44</td>\n",
       "      <td>42.34</td>\n",
       "      <td>0.0</td>\n",
       "      <td>0</td>\n",
       "      <td>10.000</td>\n",
       "      <td>0.30</td>\n",
       "      <td>1</td>\n",
       "    </tr>\n",
       "    <tr>\n",
       "      <th>1</th>\n",
       "      <td>Lyft</td>\n",
       "      <td>11.0</td>\n",
       "      <td>0.44</td>\n",
       "      <td>43.58</td>\n",
       "      <td>1.0</td>\n",
       "      <td>0</td>\n",
       "      <td>4.786</td>\n",
       "      <td>0.64</td>\n",
       "      <td>1</td>\n",
       "    </tr>\n",
       "    <tr>\n",
       "      <th>2</th>\n",
       "      <td>Lyft</td>\n",
       "      <td>7.0</td>\n",
       "      <td>0.44</td>\n",
       "      <td>38.33</td>\n",
       "      <td>0.0</td>\n",
       "      <td>0</td>\n",
       "      <td>10.000</td>\n",
       "      <td>0.68</td>\n",
       "      <td>1</td>\n",
       "    </tr>\n",
       "    <tr>\n",
       "      <th>3</th>\n",
       "      <td>Lyft</td>\n",
       "      <td>26.0</td>\n",
       "      <td>0.44</td>\n",
       "      <td>34.38</td>\n",
       "      <td>0.0</td>\n",
       "      <td>0</td>\n",
       "      <td>10.000</td>\n",
       "      <td>0.75</td>\n",
       "      <td>1</td>\n",
       "    </tr>\n",
       "    <tr>\n",
       "      <th>4</th>\n",
       "      <td>Lyft</td>\n",
       "      <td>9.0</td>\n",
       "      <td>0.44</td>\n",
       "      <td>37.44</td>\n",
       "      <td>0.0</td>\n",
       "      <td>0</td>\n",
       "      <td>10.000</td>\n",
       "      <td>0.72</td>\n",
       "      <td>1</td>\n",
       "    </tr>\n",
       "    <tr>\n",
       "      <th>...</th>\n",
       "      <td>...</td>\n",
       "      <td>...</td>\n",
       "      <td>...</td>\n",
       "      <td>...</td>\n",
       "      <td>...</td>\n",
       "      <td>...</td>\n",
       "      <td>...</td>\n",
       "      <td>...</td>\n",
       "      <td>...</td>\n",
       "    </tr>\n",
       "    <tr>\n",
       "      <th>99995</th>\n",
       "      <td>Uber</td>\n",
       "      <td>11.5</td>\n",
       "      <td>1.22</td>\n",
       "      <td>49.88</td>\n",
       "      <td>1.0</td>\n",
       "      <td>0</td>\n",
       "      <td>3.052</td>\n",
       "      <td>0.86</td>\n",
       "      <td>0</td>\n",
       "    </tr>\n",
       "    <tr>\n",
       "      <th>99996</th>\n",
       "      <td>Uber</td>\n",
       "      <td>7.5</td>\n",
       "      <td>1.22</td>\n",
       "      <td>45.32</td>\n",
       "      <td>0.0</td>\n",
       "      <td>0</td>\n",
       "      <td>10.000</td>\n",
       "      <td>0.64</td>\n",
       "      <td>0</td>\n",
       "    </tr>\n",
       "    <tr>\n",
       "      <th>99997</th>\n",
       "      <td>Uber</td>\n",
       "      <td>6.0</td>\n",
       "      <td>1.22</td>\n",
       "      <td>37.21</td>\n",
       "      <td>0.0</td>\n",
       "      <td>0</td>\n",
       "      <td>9.732</td>\n",
       "      <td>0.33</td>\n",
       "      <td>0</td>\n",
       "    </tr>\n",
       "    <tr>\n",
       "      <th>99998</th>\n",
       "      <td>Uber</td>\n",
       "      <td>7.5</td>\n",
       "      <td>1.22</td>\n",
       "      <td>38.18</td>\n",
       "      <td>0.0</td>\n",
       "      <td>0</td>\n",
       "      <td>10.000</td>\n",
       "      <td>0.72</td>\n",
       "      <td>0</td>\n",
       "    </tr>\n",
       "    <tr>\n",
       "      <th>99999</th>\n",
       "      <td>Uber</td>\n",
       "      <td>23.0</td>\n",
       "      <td>1.22</td>\n",
       "      <td>30.58</td>\n",
       "      <td>0.0</td>\n",
       "      <td>0</td>\n",
       "      <td>9.892</td>\n",
       "      <td>0.24</td>\n",
       "      <td>0</td>\n",
       "    </tr>\n",
       "  </tbody>\n",
       "</table>\n",
       "<p>100000 rows × 9 columns</p>\n",
       "</div>"
      ],
      "text/plain": [
       "      cab_type  price  distance  temperature  precipProbability  uvIndex  \\\n",
       "0         Lyft    5.0      0.44        42.34                0.0        0   \n",
       "1         Lyft   11.0      0.44        43.58                1.0        0   \n",
       "2         Lyft    7.0      0.44        38.33                0.0        0   \n",
       "3         Lyft   26.0      0.44        34.38                0.0        0   \n",
       "4         Lyft    9.0      0.44        37.44                0.0        0   \n",
       "...        ...    ...       ...          ...                ...      ...   \n",
       "99995     Uber   11.5      1.22        49.88                1.0        0   \n",
       "99996     Uber    7.5      1.22        45.32                0.0        0   \n",
       "99997     Uber    6.0      1.22        37.21                0.0        0   \n",
       "99998     Uber    7.5      1.22        38.18                0.0        0   \n",
       "99999     Uber   23.0      1.22        30.58                0.0        0   \n",
       "\n",
       "       visibility.1  moonPhase  bCabType  \n",
       "0            10.000       0.30         1  \n",
       "1             4.786       0.64         1  \n",
       "2            10.000       0.68         1  \n",
       "3            10.000       0.75         1  \n",
       "4            10.000       0.72         1  \n",
       "...             ...        ...       ...  \n",
       "99995         3.052       0.86         0  \n",
       "99996        10.000       0.64         0  \n",
       "99997         9.732       0.33         0  \n",
       "99998        10.000       0.72         0  \n",
       "99999         9.892       0.24         0  \n",
       "\n",
       "[100000 rows x 9 columns]"
      ]
     },
     "execution_count": 26,
     "metadata": {},
     "output_type": "execute_result"
    }
   ],
   "source": [
    "#any duplicate bCabType column is result of cell being run again\n",
    "#In order to make the two colored scatter plot sepatating cab type we needed to add an additional column/feature to our dataframe\n",
    "\n",
    "data.insert(8, 'bCabType', boolean_cab_type[:100000], True)\n",
    "\n",
    "data"
   ]
  },
  {
   "cell_type": "markdown",
   "metadata": {},
   "source": [
    "## 3. Asking the Hard Questions\n",
    "\n",
    "By now we should know all of the ins and outs about this dataset (right?). Let's dive a little deeper into it and see if we can find anything interesting."
   ]
  },
  {
   "cell_type": "markdown",
   "metadata": {},
   "source": [
    "### Problem 4\n",
    "\n",
    "As you worked through the initial data processing and understanding phase, did anything catch your interest? Let's formulate some questions and hypotheses that you could explore in depth.\n",
    "\n",
    "**Write-up!** Formulate and describe a question you have/want to investigate. Then, formulate and describe a hypothesis that can (possibly) answer it. What inspired your idea (provide specifics from [the last section](#2.-Getting-Familiar-with-the-Data), if any)? How can you use the data to support or reject your hypothesis?\n",
    "\n",
    "> **Hint**: Your question/hypothesis might be something that you are personally interested in or something that you think might lead to a product or service for users/customers. You might want to think about something that could help others in making decisions, etc.\n",
    "\n",
    "*Grading Note: Your work will be graded for _creativity_. Be creative in the questions you ask/hypothesis you pose.* "
   ]
  },
  {
   "cell_type": "raw",
   "metadata": {},
   "source": [
    "After looking at various scatter plots and histograms plotting all of our selected features against price, we have decided to further analyze the relationship between the distance of a ride and price."
   ]
  },
  {
   "cell_type": "raw",
   "metadata": {},
   "source": [
    "The distance of the ride will impact how much gas the driver uses and therefore would indicate the cost of offering rides in different settings. By understanding the distance of a ride and the cost, drivers and companies(Uber and Lyft) can estimate cost and profit, which would help in decision making regarding what setting they should offer rides in Boston and how to price them accordingly, as it is a very dynamic pricing industry. "
   ]
  },
  {
   "cell_type": "raw",
   "metadata": {},
   "source": [
    "Therefore in this analysis, we hypothesize that if you travel further by rideshare(larger distance), the price of the ride will be higher."
   ]
  },
  {
   "cell_type": "markdown",
   "metadata": {},
   "source": [
    "### Problem 5\n",
    "\n",
    "**Do this!** Let's explore your hypothesis. Find evidence from the data that supports or refutes your hypothesis and present it — recall that as a data scientist, one of your goals is to discover and communicate your results to your audience, _me_. The more thorough your analysis, the better!\n",
    "\n",
    "> **Hint**: Even though we focus on EDA here, you may include some predictive modeling here as well. \n",
    "\n",
    "Here's yet another _free_ cell; use as many as you need."
   ]
  },
  {
   "cell_type": "raw",
   "metadata": {},
   "source": [
    "We had expected that the distance and price would have some sort of positive linear correlation. After we plotted a scatter plot, we were shocked to see not a linear correlation, but rather a shape that resembles a bell curve suggesting a normal distribution."
   ]
  },
  {
   "cell_type": "raw",
   "metadata": {},
   "source": [
    "This graph suggests that the longer you travel, the less you pay, which is not what we had hypothesized earlier. This plot is showing that a ride at both extremes of distance would cost less than a ride closer to the mean distance."
   ]
  },
  {
   "cell_type": "raw",
   "metadata": {},
   "source": [
    "In this visualization of the two variables price and distance, it tells us that the highest price of a rideshare is when you travel at the distance of 3-4. The lowest prices are at the left and right ends of the spectrum of distance."
   ]
  },
  {
   "cell_type": "code",
   "execution_count": 34,
   "metadata": {},
   "outputs": [
    {
     "name": "stdout",
     "output_type": "stream",
     "text": [
      "       price  distance  bcabtype\n",
      "0        5.0      0.44         1\n",
      "1       11.0      0.44         1\n",
      "2        7.0      0.44         1\n",
      "3       26.0      0.44         1\n",
      "4        9.0      0.44         1\n",
      "...      ...       ...       ...\n",
      "99995   11.5      1.22         0\n",
      "99996    7.5      1.22         0\n",
      "99997    6.0      1.22         0\n",
      "99998    7.5      1.22         0\n",
      "99999   23.0      1.22         0\n",
      "\n",
      "[100000 rows x 3 columns]\n"
     ]
    },
    {
     "data": {
      "image/png": "[encoded data removed]",
      "text/plain": [
       "<Figure size 432x288 with 1 Axes>"
      ]
     },
     "metadata": {
      "needs_background": "light"
     },
     "output_type": "display_data"
    }
   ],
   "source": [
    "#got help from this website: https://stackoverflow.com/questions/43482446/python-scatter-plot-different-colors-depending-on-value\n",
    "#as recommended by TA in Monday 11:30am-1:30pm office hours\n",
    "\n",
    "#two color scatter plot\n",
    "d = {\"price\"      : price,\n",
    "     \"distance\"    : dist,\n",
    "     \"bcabtype\" : data['bCabType']}\n",
    "\n",
    "df = pd.DataFrame(d)\n",
    "print(df)\n",
    "\n",
    "colors = np.where(df[\"bcabtype\"]==1,'pink','black')\n",
    "df.plot.scatter(x=\"distance\",y=\"price\",c=colors)\n",
    "plt.title('Effect of Ride Distance on Price of Rideshare')\n",
    "plt.ylabel(\"Price (USD)\")\n",
    "plt.xlabel(\"Distance (mi)\")\n",
    "plt.legend([\"Lyft\", 'Uber'])\n",
    "plt.show()"
   ]
  },
  {
   "cell_type": "markdown",
   "metadata": {},
   "source": [
    "### Problem 6\n",
    "\n",
    "**Write up!** Did you find anything interesting in [Problem 5](#Problem-5)? If you did, tell me about it. If you don't think you found anything interesting, keep looking. \n",
    "\n",
    "> **Hint**: Provide links to key figures in your discussion. See [this StackOverflow question](https://stackoverflow.com/questions/28080066/how-to-reference-a-ipython-notebook-cell-in-markdown) for details."
   ]
  },
  {
   "cell_type": "raw",
   "metadata": {},
   "source": [
    "After looking at this scatter plot between distance and price in Problem 5, we have decided to further examine this relationship as we found it to be unexpected and interesting."
   ]
  },
  {
   "cell_type": "raw",
   "metadata": {},
   "source": [
    "Unlike our thoughts based on the basic scatter plot, after adding in another variable in our analysis, it doesn’t follow a bell curve and does in fact follow a linear relationship as we hypothesized earlier."
   ]
  },
  {
   "cell_type": "raw",
   "metadata": {},
   "source": [
    "The pink points on our advanced scatter plot correspond with Lyft rides and the black points on the graph correspond with Uber rides (Company Colors to keep it consistent and visually pleasing). "
   ]
  },
  {
   "cell_type": "raw",
   "metadata": {},
   "source": [
    "Adding in this third variable in our analysis diminished incorrect assumptions about patterns in the data.  "
   ]
  },
  {
   "cell_type": "raw",
   "metadata": {},
   "source": [
    "From this plot we can see that both Lyft and Uber rides both generally follow a linear relationship, with price increasing when distance increases. "
   ]
  },
  {
   "cell_type": "raw",
   "metadata": {},
   "source": [
    "The Uber rides, as represented in Black do not have as much variance in price and Lyft does. Uber rides also tend to have longer distances. In addition, the slope of the model looks to be much steeper for Lyft, indicating that an increase in distance corresponds to a higher increase in price. This analysis is especially helpful to the customer when considering prices for rideshare."
   ]
  },
  {
   "cell_type": "raw",
   "metadata": {},
   "source": [
    "Our initial analysis with the basic scatter plot implied that we must reject our hypothesis. However, after further analysing the scatter plot by adding in an additional variable and separating Uber and Lyft by color, we could see that we do not have to reject our hypothesis that distance is positively correlated with price."
   ]
  },
  {
   "cell_type": "markdown",
   "metadata": {},
   "source": [
    "### Problem 7\n",
    "One last step that we shouldn't skip is reviewing both our data analysis approach and also the data acquisition method. \n",
    "\n",
    "**Write up!** Are there any shortcommings and/or **ethical issues** related to the way you used this data or formed your conclusions?\n",
    "* Who are the stakeholders?\n",
    "* How could someone other than yourself be impacted by any ethical issues arising from your analysis/work/product?\n",
    "* Can you propose a way to resolve the issue(s)?"
   ]
  },
  {
   "cell_type": "raw",
   "metadata": {},
   "source": [
    "Shortcomings: As the dataset source says that this data is only from rideshare rides in Boston, MA, the findings from this data analysis might not be representative of rideshare in other cities. The data also doesn’t specify the parameters of Boston and whether or not this data includes rides in Suburbs or in the city."
   ]
  },
  {
   "cell_type": "raw",
   "metadata": {},
   "source": [
    "Ethical Issues: Kaggle is an online community for data scientists and other data practitioners to post open sources databases for public use. It is a great way to stimulate and share data, which furthers advancements in the field, but there is also no way to know how any dataset is gathered before it is posted to Kaggle. This means that while our use of Kaggle is ethical because the data there is meant to be open-source, we do not know if the data Kaggle obtains was ethically sourced because anybody can upload any dataset. "
   ]
  },
  {
   "cell_type": "raw",
   "metadata": {},
   "source": [
    "Who are the stakeholders: People in Boston who use rideshare, the business owners of Uber and Lyft"
   ]
  },
  {
   "cell_type": "raw",
   "metadata": {},
   "source": [
    "The business owners of Uber and Lyft in their eternal capitalist quest to increase profits might undertake an ad campaign to convince Boston rideshare users to take longer rides so that they will pay more, costing Boston rideshare users more than rideshare users in other locations"
   ]
  },
  {
   "cell_type": "raw",
   "metadata": {},
   "source": [
    "Some Boston rideshare users may be uncomfortable with their rideshare information being shared publicly, especially as this information includes their source and destination locations, exact latitudes and longitudes, and the exact times of the rides. Somebody with malicious intent could use this information to track people and possibly target certain people based on their travel patterns. "
   ]
  },
  {
   "cell_type": "raw",
   "metadata": {},
   "source": [
    "Since this data includes very personal information regarding peoples’ travel patterns, one way to solve this problem would be to confirm that they are willing to share the information for analysis. Since we do not know how this data was sourced, we are unaware if that approach was implemented this time. However, with this solution, it might make the data not as random since it would only report rides that people consented to tracking. This is something to keep in mind when implementing the potential solution."
   ]
  },
  {
   "cell_type": "markdown",
   "metadata": {},
   "source": [
    "Let's conclude with thinking about imporvements for the future! \n",
    "\n",
    "**Write up!** There are often times where the data you need doesn't exist (yet) and you need to go collect it. Based on your analysis of the data set, which features were informative and which weren't? What information that was missing from this dataset do you think would be helpful to have for next time?"
   ]
  },
  {
   "cell_type": "raw",
   "metadata": {},
   "source": [
    "This dataset included many features that might not be seen as beneficial to the big picture analysis for stakeholders such as sunset/rise time and moon phase. The feature we found to be most helpful in the dataset was price since that is directly correlated to the company’s interests and customers’ interests as well. Some information that would have been helpful to have for next time is how the data was sourced and even which areas of Boston data were collected from, as that could impact price."
   ]
  },
  {
   "cell_type": "markdown",
   "metadata": {},
   "source": [
    "And that's it! Remember to review your work and make sure it is well presented and organized. Not everyting you coded up needs to remain in your submission. **[Does [this cell] spark joy?](https://i.kinja-img.com/gawker-media/image/upload/s--iW_3HGbT--/c_scale,dpr_2.0,f_auto,fl_progressive,q_80,w_800/oruf4oavtj5vpmvaquew.jpg)** You are always trying to communicate your findings to somebody, _maybe even yourself_. \n",
    "\n",
    "> **Final Grading Note/Reminder**: Your work will be graded for _creativity_, _aesthetics_, _readability_, _style_, and _cleanlines_. So, carefully document your code and use descriptive/intuitive variable names. For write-ups use consice and clear language like in a written project report. Be creative in the questions you ask/hypothesis you pose as well as in the plots you use and select visulatizations and colors that make for a plesant and intuitive viewing expereince. The goal of a good visualization is that the viewer will quickly understand your figures. "
   ]
  },
  {
   "cell_type": "markdown",
   "metadata": {},
   "source": [
    "_Note: There are no automatic tests for this assignment, this is simply checking if you imported otter._"
   ]
  },
  {
   "cell_type": "code",
   "execution_count": 47,
   "metadata": {
    "deletable": false,
    "editable": false
   },
   "outputs": [
    {
     "data": {
      "text/html": [
       "<p><strong><pre style='display: inline;'>hw6</pre></strong> passed!</p>"
      ],
      "text/plain": [
       "hw6 results: All test cases passed!"
      ]
     },
     "execution_count": 47,
     "metadata": {},
     "output_type": "execute_result"
    }
   ],
   "source": [
    "grader.check(\"hw6\")"
   ]
  },
  {
   "cell_type": "markdown",
   "metadata": {},
   "source": [
    "<!-- END QUESTION -->\n",
    "\n"
   ]
  },
  {
   "cell_type": "markdown",
   "metadata": {
    "deletable": false,
    "editable": false
   },
   "source": [
    "---\n",
    "\n",
    "To double-check your work, the cell below will rerun all of the autograder tests."
   ]
  },
  {
   "cell_type": "code",
   "execution_count": 48,
   "metadata": {
    "deletable": false,
    "editable": false
   },
   "outputs": [
    {
     "data": {
      "text/plain": [
       "hw6 results: All test cases passed!"
      ]
     },
     "execution_count": 48,
     "metadata": {},
     "output_type": "execute_result"
    }
   ],
   "source": [
    "grader.check_all()"
   ]
  },
  {
   "cell_type": "markdown",
   "metadata": {
    "deletable": false,
    "editable": false
   },
   "source": [
    "## Submission\n",
    "\n",
    "Make sure you have run all cells in your notebook in order before running the cell below, so that all images/graphs appear in the output. The cell below will generate a zip file for you to submit. **Please save before exporting!**"
   ]
  },
  {
   "cell_type": "code",
   "execution_count": 49,
   "metadata": {
    "deletable": false,
    "editable": false
   },
   "outputs": [
    {
     "data": {
      "text/html": [
       "\n",
       "            <p>Your submission has been exported. Click <a href=\"hw6_2021_11_08T10_41_57_220510.zip\" download=\"hw6_2021_11_08T10_41_57_220510.zip\" target=\"_blank\">here</a>\n",
       "            to download the zip file.</p>\n",
       "            "
      ],
      "text/plain": [
       "<IPython.core.display.HTML object>"
      ]
     },
     "metadata": {},
     "output_type": "display_data"
    }
   ],
   "source": [
    "# Save your notebook first, then run this cell to export your submission.\n",
    "grader.export(pdf=False)"
   ]
  },
  {
   "cell_type": "markdown",
   "metadata": {},
   "source": [
    " "
   ]
  }
 ],
 "metadata": {
  "kernelspec": {
   "display_name": "Python 3",
   "language": "python",
   "name": "python3"
  },
  "language_info": {
   "codemirror_mode": {
    "name": "ipython",
    "version": 3
   },
   "file_extension": ".py",
   "mimetype": "text/x-python",
   "name": "python",
   "nbconvert_exporter": "python",
   "pygments_lexer": "ipython3",
   "version": "3.7.11"
  },
  "otter": {
   "tests": {
    "hw6": {
     "name": "hw6",
     "points": 0,
     "suites": [
      {
       "cases": [
        {
         "code": ">>> True == True\nTrue",
         "hidden": false,
         "locked": false
        }
       ],
       "scored": true,
       "setup": "",
       "teardown": "",
       "type": "doctest"
      }
     ]
    }
   }
  }
 },
 "nbformat": 4,
 "nbformat_minor": 2
}
